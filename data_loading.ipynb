{
 "cells": [
  {
   "cell_type": "code",
   "execution_count": 1,
   "metadata": {},
   "outputs": [],
   "source": [
    "import pandas as pd\n",
    "import requests\n",
    "from bs4 import BeautifulSoup\n",
    "import json\n",
    "import re"
   ]
  },
  {
   "cell_type": "code",
   "execution_count": 2,
   "metadata": {},
   "outputs": [],
   "source": [
    "def to_snakecase(string, regex):\n",
    "    return '_'.join(regex.sub('_' , string).split('_')).strip('_').lower()"
   ]
  },
  {
   "cell_type": "code",
   "execution_count": 3,
   "metadata": {
    "scrolled": true
   },
   "outputs": [],
   "source": [
    "def get_cargo(soup):\n",
    "    data = {}\n",
    "    im = re.compile(r'\\W+')\n",
    "    cargo = soup.find(\"ul\", attrs={\"class\": \"cargo\"}).find_all('li')\n",
    "    for i in cargo:\n",
    "        active = \"checked\" in i.get('class')\n",
    "        val = i.text\n",
    "        if active:\n",
    "            val = val.lstrip('X')\n",
    "        data[to_snakecase(val, im)] = active\n",
    "    return data"
   ]
  },
  {
   "cell_type": "code",
   "execution_count": 4,
   "metadata": {},
   "outputs": [],
   "source": [
    "def get_vehicle_type(soup):\n",
    "    data = []\n",
    "    im = re.compile(r'\\W+')\n",
    "    cargo = soup.find('table')\n",
    "    headers = []\n",
    "    for th in cargo.thead.find_all('th'):\n",
    "        headers.append(to_snakecase(th.text, im))\n",
    "    for row in cargo.tbody.find_all('tr'):\n",
    "        row_data = {}\n",
    "        row_items = row.text.strip().split('\\n')\n",
    "        for item, header in zip(row_items, headers):\n",
    "            pos_int = to_snakecase(item, im)\n",
    "            try:\n",
    "                pos_int = int(pos_int)\n",
    "            except ValueError:\n",
    "                pass\n",
    "            row_data[header] = pos_int\n",
    "        data.append(row_data)\n",
    "    return data"
   ]
  },
  {
   "cell_type": "code",
   "execution_count": 5,
   "metadata": {},
   "outputs": [],
   "source": [
    "def get_carrier_registration(carrier_id):\n",
    "    page = requests.get('https://ai.fmcsa.dot.gov/SMS/Carrier/{}/CarrierRegistration.aspx'.format(carrier_id)).text\n",
    "    soup = BeautifulSoup(page)\n",
    "    return {'carrier_id': carrier_id, 'cargo': get_cargo(soup), 'types': get_vehicle_type(soup)}"
   ]
  },
  {
   "cell_type": "code",
   "execution_count": 6,
   "metadata": {},
   "outputs": [
    {
     "data": {
      "text/plain": [
       "{'carrier_id': 21800,\n",
       " 'cargo': {'general_freight': True,\n",
       "  'household_goods': False,\n",
       "  'metal_sheets_coils_rolls': False,\n",
       "  'motor_vehicles': False,\n",
       "  'drive_away_towaway': False,\n",
       "  'logs_poles_beams_lumber': False,\n",
       "  'building_materials': False,\n",
       "  'mobile_homes': False,\n",
       "  'machinery_large_objects': False,\n",
       "  'fresh_produce': False,\n",
       "  'liquids_gases': False,\n",
       "  'intermodal_containers': False,\n",
       "  'passengers': False,\n",
       "  'oil_field_equipment': False,\n",
       "  'livestock': False,\n",
       "  'grain_feed_hay': False,\n",
       "  'coal_coke': False,\n",
       "  'meat': False,\n",
       "  'garbage_refuse_trash': False,\n",
       "  'u_s_mail': False,\n",
       "  'chemicals': False,\n",
       "  'commodities_dry_bulk': False,\n",
       "  'refrigerated_food': False,\n",
       "  'beverages': False,\n",
       "  'paper_products': False,\n",
       "  'utility': False,\n",
       "  'farm_supplies': False,\n",
       "  'construction': False,\n",
       "  'water_well': False,\n",
       "  'other': False},\n",
       " 'types': [{'vehicle_type': 'straight_trucks',\n",
       "   'owned': 98785,\n",
       "   'term_leased': 0,\n",
       "   'trip_leased': 0},\n",
       "  {'vehicle_type': 'truck_tractors',\n",
       "   'owned': 27164,\n",
       "   'term_leased': 0,\n",
       "   'trip_leased': 0},\n",
       "  {'vehicle_type': 'trailers',\n",
       "   'owned': 96285,\n",
       "   'term_leased': 0,\n",
       "   'trip_leased': 0},\n",
       "  {'vehicle_type': 'hazmat_cargo_tank_trailers',\n",
       "   'owned': 0,\n",
       "   'term_leased': 0,\n",
       "   'trip_leased': 0},\n",
       "  {'vehicle_type': 'hazmat_cargo_tank_trucks',\n",
       "   'owned': 0,\n",
       "   'term_leased': 0,\n",
       "   'trip_leased': 0},\n",
       "  {'vehicle_type': 'motor_coach',\n",
       "   'owned': 0,\n",
       "   'term_leased': 0,\n",
       "   'trip_leased': 0},\n",
       "  {'vehicle_type': 'school_bus_1_8',\n",
       "   'owned': 0,\n",
       "   'term_leased': 0,\n",
       "   'trip_leased': 0},\n",
       "  {'vehicle_type': 'school_bus_9_15',\n",
       "   'owned': 0,\n",
       "   'term_leased': 0,\n",
       "   'trip_leased': 0},\n",
       "  {'vehicle_type': 'school_bus_16',\n",
       "   'owned': 0,\n",
       "   'term_leased': 0,\n",
       "   'trip_leased': 0},\n",
       "  {'vehicle_type': 'mini_bus_16',\n",
       "   'owned': 0,\n",
       "   'term_leased': 0,\n",
       "   'trip_leased': 0},\n",
       "  {'vehicle_type': 'van_1_8', 'owned': 0, 'term_leased': 0, 'trip_leased': 0},\n",
       "  {'vehicle_type': 'van_9_15', 'owned': 0, 'term_leased': 0, 'trip_leased': 0},\n",
       "  {'vehicle_type': 'limousine_1_8',\n",
       "   'owned': 0,\n",
       "   'term_leased': 0,\n",
       "   'trip_leased': 0},\n",
       "  {'vehicle_type': 'limousine_9_15',\n",
       "   'owned': 0,\n",
       "   'term_leased': 0,\n",
       "   'trip_leased': 0},\n",
       "  {'vehicle_type': 'limousine_16',\n",
       "   'owned': 0,\n",
       "   'term_leased': 0,\n",
       "   'trip_leased': 0}]}"
      ]
     },
     "execution_count": 6,
     "metadata": {},
     "output_type": "execute_result"
    }
   ],
   "source": [
    "get_carrier_registration(21800)"
   ]
  },
  {
   "cell_type": "code",
   "execution_count": 7,
   "metadata": {},
   "outputs": [
    {
     "data": {
      "text/plain": [
       "'{\"carrier_id\": 21800, \"cargo\": {\"general_freight\": true, \"household_goods\": false, \"metal_sheets_coils_rolls\": false, \"motor_vehicles\": false, \"drive_away_towaway\": false, \"logs_poles_beams_lumber\": false, \"building_materials\": false, \"mobile_homes\": false, \"machinery_large_objects\": false, \"fresh_produce\": false, \"liquids_gases\": false, \"intermodal_containers\": false, \"passengers\": false, \"oil_field_equipment\": false, \"livestock\": false, \"grain_feed_hay\": false, \"coal_coke\": false, \"meat\": false, \"garbage_refuse_trash\": false, \"u_s_mail\": false, \"chemicals\": false, \"commodities_dry_bulk\": false, \"refrigerated_food\": false, \"beverages\": false, \"paper_products\": false, \"utility\": false, \"farm_supplies\": false, \"construction\": false, \"water_well\": false, \"other\": false}, \"types\": [{\"vehicle_type\": \"straight_trucks\", \"owned\": 98785, \"term_leased\": 0, \"trip_leased\": 0}, {\"vehicle_type\": \"truck_tractors\", \"owned\": 27164, \"term_leased\": 0, \"trip_leased\": 0}, {\"vehicle_type\": \"trailers\", \"owned\": 96285, \"term_leased\": 0, \"trip_leased\": 0}, {\"vehicle_type\": \"hazmat_cargo_tank_trailers\", \"owned\": 0, \"term_leased\": 0, \"trip_leased\": 0}, {\"vehicle_type\": \"hazmat_cargo_tank_trucks\", \"owned\": 0, \"term_leased\": 0, \"trip_leased\": 0}, {\"vehicle_type\": \"motor_coach\", \"owned\": 0, \"term_leased\": 0, \"trip_leased\": 0}, {\"vehicle_type\": \"school_bus_1_8\", \"owned\": 0, \"term_leased\": 0, \"trip_leased\": 0}, {\"vehicle_type\": \"school_bus_9_15\", \"owned\": 0, \"term_leased\": 0, \"trip_leased\": 0}, {\"vehicle_type\": \"school_bus_16\", \"owned\": 0, \"term_leased\": 0, \"trip_leased\": 0}, {\"vehicle_type\": \"mini_bus_16\", \"owned\": 0, \"term_leased\": 0, \"trip_leased\": 0}, {\"vehicle_type\": \"van_1_8\", \"owned\": 0, \"term_leased\": 0, \"trip_leased\": 0}, {\"vehicle_type\": \"van_9_15\", \"owned\": 0, \"term_leased\": 0, \"trip_leased\": 0}, {\"vehicle_type\": \"limousine_1_8\", \"owned\": 0, \"term_leased\": 0, \"trip_leased\": 0}, {\"vehicle_type\": \"limousine_9_15\", \"owned\": 0, \"term_leased\": 0, \"trip_leased\": 0}, {\"vehicle_type\": \"limousine_16\", \"owned\": 0, \"term_leased\": 0, \"trip_leased\": 0}]}'"
      ]
     },
     "execution_count": 7,
     "metadata": {},
     "output_type": "execute_result"
    }
   ],
   "source": [
    "json.dumps(get_carrier_registration(21800))"
   ]
  },
  {
   "cell_type": "code",
   "execution_count": null,
   "metadata": {},
   "outputs": [],
   "source": []
  }
 ],
 "metadata": {
  "kernelspec": {
   "display_name": "Python 3",
   "language": "python",
   "name": "python3"
  },
  "language_info": {
   "codemirror_mode": {
    "name": "ipython",
    "version": 3
   },
   "file_extension": ".py",
   "mimetype": "text/x-python",
   "name": "python",
   "nbconvert_exporter": "python",
   "pygments_lexer": "ipython3",
   "version": "3.8.2"
  }
 },
 "nbformat": 4,
 "nbformat_minor": 4
}
