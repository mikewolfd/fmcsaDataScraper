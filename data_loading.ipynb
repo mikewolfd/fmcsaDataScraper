{
 "cells": [
  {
   "cell_type": "code",
   "execution_count": 156,
   "metadata": {},
   "outputs": [],
   "source": [
    "import pandas as pd\n",
    "import requests\n",
    "from bs4 import BeautifulSoup\n",
    "import json"
   ]
  },
  {
   "cell_type": "code",
   "execution_count": null,
   "metadata": {},
   "outputs": [],
   "source": []
  },
  {
   "cell_type": "code",
   "execution_count": 147,
   "metadata": {},
   "outputs": [],
   "source": [
    "census_data = pd.read_csv('./data/FMCSA_CENSUS1_2020Aug.txt', encoding = \"ISO-8859-1\")"
   ]
  },
  {
   "cell_type": "code",
   "execution_count": 148,
   "metadata": {
    "scrolled": true
   },
   "outputs": [],
   "source": [
    "dot_numbers = census_data.DOT_NUMBER.to_list()"
   ]
  },
  {
   "cell_type": "code",
   "execution_count": 149,
   "metadata": {},
   "outputs": [
    {
     "data": {
      "text/plain": [
       "1717663"
      ]
     },
     "execution_count": 149,
     "metadata": {},
     "output_type": "execute_result"
    }
   ],
   "source": [
    "len(dot_numbers)"
   ]
  },
  {
   "cell_type": "code",
   "execution_count": 153,
   "metadata": {},
   "outputs": [],
   "source": [
    "import json"
   ]
  },
  {
   "cell_type": "code",
   "execution_count": 160,
   "metadata": {
    "scrolled": true
   },
   "outputs": [],
   "source": [
    "def get_cargo(soup):\n",
    "    data = {}\n",
    "    cargo = soup.find(\"ul\", attrs={\"class\": \"cargo\"}).find_all('li')\n",
    "    for i in cargo:\n",
    "        active = bool(i.get('class'))\n",
    "        val = i.text\n",
    "        if active:\n",
    "            val = val.lstrip('X').strip()\n",
    "        data[val] = active\n",
    "    return data"
   ]
  },
  {
   "cell_type": "code",
   "execution_count": 161,
   "metadata": {},
   "outputs": [],
   "source": [
    "def get_vehicle_type(soup):\n",
    "    data = {}\n",
    "    cargo = soup.find('table')\n",
    "    headers = []\n",
    "    for th in cargo.thead.find_all('th'):\n",
    "        headers.append(th.text.strip())\n",
    "    for row in cargo.tbody.find_all('tr'):\n",
    "        row_data = {}\n",
    "        row_items = row.text.strip().split('\\n')\n",
    "        for item, header in zip(row_items, headers):\n",
    "            row_data[header] = item.strip()\n",
    "        data[row_items[0]]= row_data\n",
    "    return data"
   ]
  },
  {
   "cell_type": "code",
   "execution_count": 151,
   "metadata": {},
   "outputs": [],
   "source": [
    "def get_carrier_registration(carrier_id):\n",
    "    page = requests.get('https://ai.fmcsa.dot.gov/SMS/Carrier/{}/CarrierRegistration.aspx'.format(carrier_id)).text\n",
    "    soup = BeautifulSoup(page)\n",
    "    return {carrier_id: {'cargo': get_cargo(soup), 'types': get_vehicle_type(soup)}}"
   ]
  },
  {
   "cell_type": "code",
   "execution_count": 145,
   "metadata": {},
   "outputs": [
    {
     "data": {
      "text/plain": [
       "{'GENERAL FREIGHT': True,\n",
       " 'HOUSEHOLD GOODS': False,\n",
       " 'METAL; SHEETS, COILS, ROLLS': False,\n",
       " 'MOTOR VEHICLES': False,\n",
       " 'DRIVE AWAY/TOWAWAY': False,\n",
       " 'LOGS, POLES, BEAMS, LUMBER': False,\n",
       " 'BUILDING MATERIALS': False,\n",
       " 'MOBILE HOMES': False,\n",
       " 'MACHINERY, LARGE OBJECTS': False,\n",
       " 'FRESH PRODUCE': False,\n",
       " 'LIQUIDS/GASES': False,\n",
       " 'INTERMODAL CONTAINERS': False,\n",
       " 'PASSENGERS': False,\n",
       " 'OIL FIELD EQUIPMENT': False,\n",
       " 'LIVESTOCK': False,\n",
       " 'GRAIN, FEED, HAY': False,\n",
       " 'COAL, COKE': False,\n",
       " 'MEAT': False,\n",
       " 'GARBAGE, REFUSE, TRASH': False,\n",
       " 'U.S. MAIL': False,\n",
       " 'CHEMICALS': False,\n",
       " 'COMMODITIES DRY BULK': False,\n",
       " 'REFRIGERATED FOOD': False,\n",
       " 'BEVERAGES': False,\n",
       " 'PAPER PRODUCTS': False,\n",
       " 'UTILITY': False,\n",
       " 'FARM SUPPLIES': False,\n",
       " 'CONSTRUCTION': False,\n",
       " 'WATER WELL': False,\n",
       " 'OTHER': False}"
      ]
     },
     "execution_count": 145,
     "metadata": {},
     "output_type": "execute_result"
    }
   ],
   "source": [
    "get_cargo(soup)"
   ]
  },
  {
   "cell_type": "code",
   "execution_count": 144,
   "metadata": {},
   "outputs": [
    {
     "data": {
      "text/plain": [
       "{'Straight Trucks': {'Vehicle Type': 'Straight Trucks',\n",
       "  'Owned': '98,785',\n",
       "  'Term Leased': '0',\n",
       "  'Trip Leased': '0'},\n",
       " 'Truck Tractors': {'Vehicle Type': 'Truck Tractors',\n",
       "  'Owned': '27,164',\n",
       "  'Term Leased': '0',\n",
       "  'Trip Leased': '0'},\n",
       " 'Trailers*': {'Vehicle Type': 'Trailers*',\n",
       "  'Owned': '96,285',\n",
       "  'Term Leased': '0',\n",
       "  'Trip Leased': '0'},\n",
       " 'Hazmat Cargo Tank Trailers*': {'Vehicle Type': 'Hazmat Cargo Tank Trailers*',\n",
       "  'Owned': '0',\n",
       "  'Term Leased': '0',\n",
       "  'Trip Leased': '0'},\n",
       " 'Hazmat Cargo Tank Trucks': {'Vehicle Type': 'Hazmat Cargo Tank Trucks',\n",
       "  'Owned': '0',\n",
       "  'Term Leased': '0',\n",
       "  'Trip Leased': '0'},\n",
       " 'Motor Coach': {'Vehicle Type': 'Motor Coach',\n",
       "  'Owned': '0',\n",
       "  'Term Leased': '0',\n",
       "  'Trip Leased': '0'},\n",
       " 'School Bus 1-8*': {'Vehicle Type': 'School Bus 1-8*',\n",
       "  'Owned': '0',\n",
       "  'Term Leased': '0',\n",
       "  'Trip Leased': '0'},\n",
       " 'School Bus 9-15': {'Vehicle Type': 'School Bus 9-15',\n",
       "  'Owned': '0',\n",
       "  'Term Leased': '0',\n",
       "  'Trip Leased': '0'},\n",
       " 'School Bus 16+': {'Vehicle Type': 'School Bus 16+',\n",
       "  'Owned': '0',\n",
       "  'Term Leased': '0',\n",
       "  'Trip Leased': '0'},\n",
       " 'Mini-Bus 16+': {'Vehicle Type': 'Mini-Bus 16+',\n",
       "  'Owned': '0',\n",
       "  'Term Leased': '0',\n",
       "  'Trip Leased': '0'},\n",
       " 'Van 1-8*': {'Vehicle Type': 'Van 1-8*',\n",
       "  'Owned': '0',\n",
       "  'Term Leased': '0',\n",
       "  'Trip Leased': '0'},\n",
       " 'Van 9-15': {'Vehicle Type': 'Van 9-15',\n",
       "  'Owned': '0',\n",
       "  'Term Leased': '0',\n",
       "  'Trip Leased': '0'},\n",
       " 'Limousine 1-8*': {'Vehicle Type': 'Limousine 1-8*',\n",
       "  'Owned': '0',\n",
       "  'Term Leased': '0',\n",
       "  'Trip Leased': '0'},\n",
       " 'Limousine 9-15': {'Vehicle Type': 'Limousine 9-15',\n",
       "  'Owned': '0',\n",
       "  'Term Leased': '0',\n",
       "  'Trip Leased': '0'},\n",
       " 'Limousine 16+': {'Vehicle Type': 'Limousine 16+',\n",
       "  'Owned': '0',\n",
       "  'Term Leased': '0',\n",
       "  'Trip Leased': '0'}}"
      ]
     },
     "execution_count": 144,
     "metadata": {},
     "output_type": "execute_result"
    }
   ],
   "source": [
    "get_vehicle_type(soup)"
   ]
  },
  {
   "cell_type": "code",
   "execution_count": 163,
   "metadata": {},
   "outputs": [
    {
     "data": {
      "text/plain": [
       "'{\"21800\": {\"cargo\": {\"GENERAL FREIGHT\": true, \"HOUSEHOLD GOODS\": false, \"METAL; SHEETS, COILS, ROLLS\": false, \"MOTOR VEHICLES\": false, \"DRIVE AWAY/TOWAWAY\": false, \"LOGS, POLES, BEAMS, LUMBER\": false, \"BUILDING MATERIALS\": false, \"MOBILE HOMES\": false, \"MACHINERY, LARGE OBJECTS\": false, \"FRESH PRODUCE\": false, \"LIQUIDS/GASES\": false, \"INTERMODAL CONTAINERS\": false, \"PASSENGERS\": false, \"OIL FIELD EQUIPMENT\": false, \"LIVESTOCK\": false, \"GRAIN, FEED, HAY\": false, \"COAL, COKE\": false, \"MEAT\": false, \"GARBAGE, REFUSE, TRASH\": false, \"U.S. MAIL\": false, \"CHEMICALS\": false, \"COMMODITIES DRY BULK\": false, \"REFRIGERATED FOOD\": false, \"BEVERAGES\": false, \"PAPER PRODUCTS\": false, \"UTILITY\": false, \"FARM SUPPLIES\": false, \"CONSTRUCTION\": false, \"WATER WELL\": false, \"OTHER\": false}, \"types\": {\"Straight Trucks\": {\"Vehicle Type\": \"Straight Trucks\", \"Owned\": \"98,785\", \"Term Leased\": \"0\", \"Trip Leased\": \"0\"}, \"Truck Tractors\": {\"Vehicle Type\": \"Truck Tractors\", \"Owned\": \"27,164\", \"Term Leased\": \"0\", \"Trip Leased\": \"0\"}, \"Trailers*\": {\"Vehicle Type\": \"Trailers*\", \"Owned\": \"96,285\", \"Term Leased\": \"0\", \"Trip Leased\": \"0\"}, \"Hazmat Cargo Tank Trailers*\": {\"Vehicle Type\": \"Hazmat Cargo Tank Trailers*\", \"Owned\": \"0\", \"Term Leased\": \"0\", \"Trip Leased\": \"0\"}, \"Hazmat Cargo Tank Trucks\": {\"Vehicle Type\": \"Hazmat Cargo Tank Trucks\", \"Owned\": \"0\", \"Term Leased\": \"0\", \"Trip Leased\": \"0\"}, \"Motor Coach\": {\"Vehicle Type\": \"Motor Coach\", \"Owned\": \"0\", \"Term Leased\": \"0\", \"Trip Leased\": \"0\"}, \"School Bus 1-8*\": {\"Vehicle Type\": \"School Bus 1-8*\", \"Owned\": \"0\", \"Term Leased\": \"0\", \"Trip Leased\": \"0\"}, \"School Bus 9-15\": {\"Vehicle Type\": \"School Bus 9-15\", \"Owned\": \"0\", \"Term Leased\": \"0\", \"Trip Leased\": \"0\"}, \"School Bus 16+\": {\"Vehicle Type\": \"School Bus 16+\", \"Owned\": \"0\", \"Term Leased\": \"0\", \"Trip Leased\": \"0\"}, \"Mini-Bus 16+\": {\"Vehicle Type\": \"Mini-Bus 16+\", \"Owned\": \"0\", \"Term Leased\": \"0\", \"Trip Leased\": \"0\"}, \"Van 1-8*\": {\"Vehicle Type\": \"Van 1-8*\", \"Owned\": \"0\", \"Term Leased\": \"0\", \"Trip Leased\": \"0\"}, \"Van 9-15\": {\"Vehicle Type\": \"Van 9-15\", \"Owned\": \"0\", \"Term Leased\": \"0\", \"Trip Leased\": \"0\"}, \"Limousine 1-8*\": {\"Vehicle Type\": \"Limousine 1-8*\", \"Owned\": \"0\", \"Term Leased\": \"0\", \"Trip Leased\": \"0\"}, \"Limousine 9-15\": {\"Vehicle Type\": \"Limousine 9-15\", \"Owned\": \"0\", \"Term Leased\": \"0\", \"Trip Leased\": \"0\"}, \"Limousine 16+\": {\"Vehicle Type\": \"Limousine 16+\", \"Owned\": \"0\", \"Term Leased\": \"0\", \"Trip Leased\": \"0\"}}}}'"
      ]
     },
     "execution_count": 163,
     "metadata": {},
     "output_type": "execute_result"
    }
   ],
   "source": [
    "json.dumps(get_carrier_registration(21800))"
   ]
  },
  {
   "cell_type": "code",
   "execution_count": null,
   "metadata": {},
   "outputs": [],
   "source": []
  }
 ],
 "metadata": {
  "kernelspec": {
   "display_name": "Python 3",
   "language": "python",
   "name": "python3"
  },
  "language_info": {
   "codemirror_mode": {
    "name": "ipython",
    "version": 3
   },
   "file_extension": ".py",
   "mimetype": "text/x-python",
   "name": "python",
   "nbconvert_exporter": "python",
   "pygments_lexer": "ipython3",
   "version": "3.8.2"
  }
 },
 "nbformat": 4,
 "nbformat_minor": 4
}
