{
 "cells": [
  {
   "cell_type": "code",
   "execution_count": 4,
   "metadata": {},
   "outputs": [],
   "source": [
    "import sql_store\n",
    "import mongo_storage\n",
    "# import logging\n",
    "from generate_data import scrape_site, fix_store\n",
    "import pandas as pd\n",
    "import peewee\n",
    "# logging.basicConfig(format='%(levelname)s:%(message)s', level=logging.DEBUG)\n"
   ]
  },
  {
   "cell_type": "code",
   "execution_count": 10,
   "metadata": {},
   "outputs": [
    {
     "name": "stdout",
     "output_type": "stream",
     "text": [
      "8.88 s ± 0 ns per loop (mean ± std. dev. of 1 run, 1 loop each)\n"
     ]
    }
   ],
   "source": [
    "%%timeit -n1 -r1\n",
    "with mongo_storage.GetClient() as cli:\n",
    "    sql_store.dbBuild.populate_store(cli.find())\n",
    "#     for objs in sql_store.chunked(cli.find(), 1000):\n",
    "#         sql_store.Carrier.create_objects(objs)"
   ]
  },
  {
   "cell_type": "code",
   "execution_count": 33,
   "metadata": {},
   "outputs": [
    {
     "data": {
      "text/plain": [
       "[<CarrierFreight: 1471>,\n",
       " <CarrierFreight: 1472>,\n",
       " <CarrierFreight: 1473>,\n",
       " <CarrierFreight: 1474>,\n",
       " <CarrierFreight: 1475>,\n",
       " <CarrierFreight: 1476>,\n",
       " <CarrierFreight: 1477>,\n",
       " <CarrierFreight: 1478>,\n",
       " <CarrierFreight: 1479>,\n",
       " <CarrierFreight: 1480>,\n",
       " <CarrierFreight: 1481>,\n",
       " <CarrierFreight: 1482>,\n",
       " <CarrierFreight: 1483>,\n",
       " <CarrierFreight: 1484>,\n",
       " <CarrierFreight: 1485>,\n",
       " <CarrierFreight: 1486>,\n",
       " <CarrierFreight: 1487>,\n",
       " <CarrierFreight: 1488>,\n",
       " <CarrierFreight: 1489>,\n",
       " <CarrierFreight: 1490>,\n",
       " <CarrierFreight: 1491>,\n",
       " <CarrierFreight: 1492>,\n",
       " <CarrierFreight: 1493>,\n",
       " <CarrierFreight: 1494>,\n",
       " <CarrierFreight: 1495>,\n",
       " <CarrierFreight: 1496>,\n",
       " <CarrierFreight: 1497>,\n",
       " <CarrierFreight: 1498>,\n",
       " <CarrierFreight: 1499>,\n",
       " <CarrierFreight: 1500>]"
      ]
     },
     "execution_count": 33,
     "metadata": {},
     "output_type": "execute_result"
    }
   ],
   "source": [
    "list(sql_store.Carrier.select()[900].freight)"
   ]
  },
  {
   "cell_type": "code",
   "execution_count": 27,
   "metadata": {},
   "outputs": [
    {
     "ename": "AttributeError",
     "evalue": "'ColumnBase' object has no attribute 'rhs'",
     "output_type": "error",
     "traceback": [
      "\u001b[0;31m---------------------------------------------------------------------------\u001b[0m",
      "\u001b[0;31mAttributeError\u001b[0m                            Traceback (most recent call last)",
      "\u001b[0;32m<ipython-input-27-1c9873008325>\u001b[0m in \u001b[0;36m<module>\u001b[0;34m\u001b[0m\n\u001b[0;32m----> 1\u001b[0;31m \u001b[0mz\u001b[0m \u001b[0;34m=\u001b[0m \u001b[0msql_store\u001b[0m\u001b[0;34m.\u001b[0m\u001b[0mCarrierFreight\u001b[0m\u001b[0;34m.\u001b[0m\u001b[0mselect\u001b[0m\u001b[0;34m(\u001b[0m\u001b[0;34m)\u001b[0m\u001b[0;34m.\u001b[0m\u001b[0mfilter\u001b[0m\u001b[0;34m(\u001b[0m\u001b[0;34m)\u001b[0m\u001b[0;34m\u001b[0m\u001b[0;34m\u001b[0m\u001b[0m\n\u001b[0m",
      "\u001b[0;32m~/.local/lib/python3.8/site-packages/peewee.py\u001b[0m in \u001b[0;36mfilter\u001b[0;34m(self, *args, **kwargs)\u001b[0m\n\u001b[1;32m   7123\u001b[0m                     \u001b[0mq\u001b[0m\u001b[0;34m.\u001b[0m\u001b[0mappend\u001b[0m\u001b[0;34m(\u001b[0m\u001b[0mpiece\u001b[0m\u001b[0;34m)\u001b[0m\u001b[0;34m\u001b[0m\u001b[0;34m\u001b[0m\u001b[0m\n\u001b[1;32m   7124\u001b[0m \u001b[0;34m\u001b[0m\u001b[0m\n\u001b[0;32m-> 7125\u001b[0;31m         \u001b[0mdq_node\u001b[0m \u001b[0;34m=\u001b[0m \u001b[0mdq_node\u001b[0m\u001b[0;34m.\u001b[0m\u001b[0mrhs\u001b[0m\u001b[0;34m\u001b[0m\u001b[0;34m\u001b[0m\u001b[0m\n\u001b[0m\u001b[1;32m   7126\u001b[0m \u001b[0;34m\u001b[0m\u001b[0m\n\u001b[1;32m   7127\u001b[0m         \u001b[0mquery\u001b[0m \u001b[0;34m=\u001b[0m \u001b[0mself\u001b[0m\u001b[0;34m.\u001b[0m\u001b[0mclone\u001b[0m\u001b[0;34m(\u001b[0m\u001b[0;34m)\u001b[0m\u001b[0;34m\u001b[0m\u001b[0;34m\u001b[0m\u001b[0m\n",
      "\u001b[0;31mAttributeError\u001b[0m: 'ColumnBase' object has no attribute 'rhs'"
     ]
    }
   ],
   "source": [
    "z = sql_store.CarrierFreight.select()."
   ]
  },
  {
   "cell_type": "code",
   "execution_count": 25,
   "metadata": {},
   "outputs": [
    {
     "data": {
      "text/plain": [
       "'general_freight'"
      ]
     },
     "execution_count": 25,
     "metadata": {},
     "output_type": "execute_result"
    }
   ],
   "source": [
    "z."
   ]
  },
  {
   "cell_type": "code",
   "execution_count": 6,
   "metadata": {
    "scrolled": false
   },
   "outputs": [
    {
     "name": "stdout",
     "output_type": "stream",
     "text": [
      "1min 4s ± 0 ns per loop (mean ± std. dev. of 1 run, 1 loop each)\n"
     ]
    }
   ],
   "source": [
    "%%timeit -n1 -r1\n",
    "scrape_site('./data/FMCSA_CENSUS1_2020Aug.txt', quantity=5000)"
   ]
  },
  {
   "cell_type": "code",
   "execution_count": 8,
   "metadata": {},
   "outputs": [
    {
     "data": {
      "text/plain": [
       "46000"
      ]
     },
     "execution_count": 8,
     "metadata": {},
     "output_type": "execute_result"
    }
   ],
   "source": [
    "mongo_storage.getNextIndex()"
   ]
  },
  {
   "cell_type": "code",
   "execution_count": 11,
   "metadata": {},
   "outputs": [
    {
     "name": "stdout",
     "output_type": "stream",
     "text": [
      "{'_id': ObjectId('5f67b32dfc3eb5bad2e18796'), 'carrier_id': 1, 'cargo': {'general_freight': False, 'household_goods': False, 'metal_sheets_coils_rolls': False, 'motor_vehicles': False, 'drive_away_towaway': False, 'logs_poles_beams_lumber': False, 'building_materials': False, 'mobile_homes': False, 'machinery_large_objects': False, 'fresh_produce': False, 'liquids_gases': False, 'intermodal_containers': False, 'passengers': False, 'oil_field_equipment': False, 'livestock': False, 'grain_feed_hay': False, 'coal_coke': False, 'meat': False, 'garbage_refuse_trash': False, 'u_s_mail': False, 'chemicals': False, 'commodities_dry_bulk': False, 'refrigerated_food': False, 'beverages': False, 'paper_products': False, 'utility': False, 'farm_supplies': False, 'construction': False, 'water_well': False, 'unspecified': True}, 'types': [{'vehicle_type': 'straight_trucks', 'owned': 0, 'term_leased': 0, 'trip_leased': 0}, {'vehicle_type': 'truck_tractors', 'owned': 3, 'term_leased': 1, 'trip_leased': 0}, {'vehicle_type': 'trailers', 'owned': 4, 'term_leased': 0, 'trip_leased': 0}, {'vehicle_type': 'hazmat_cargo_tank_trailers', 'owned': 0, 'term_leased': 0, 'trip_leased': 0}, {'vehicle_type': 'hazmat_cargo_tank_trucks', 'owned': 0, 'term_leased': 0, 'trip_leased': 0}, {'vehicle_type': 'motor_coach', 'owned': 0, 'term_leased': 0, 'trip_leased': 0}, {'vehicle_type': 'school_bus_1_8', 'owned': 0, 'term_leased': 0, 'trip_leased': 0}, {'vehicle_type': 'school_bus_9_15', 'owned': 0, 'term_leased': 0, 'trip_leased': 0}, {'vehicle_type': 'school_bus_16', 'owned': 0, 'term_leased': 0, 'trip_leased': 0}, {'vehicle_type': 'mini_bus_16', 'owned': 0, 'term_leased': 0, 'trip_leased': 0}, {'vehicle_type': 'van_1_8', 'owned': 0, 'term_leased': 0, 'trip_leased': 0}, {'vehicle_type': 'van_9_15', 'owned': 0, 'term_leased': 0, 'trip_leased': 0}, {'vehicle_type': 'limousine_1_8', 'owned': 0, 'term_leased': 0, 'trip_leased': 0}, {'vehicle_type': 'limousine_9_15', 'owned': 0, 'term_leased': 0, 'trip_leased': 0}, {'vehicle_type': 'limousine_16', 'owned': 0, 'term_leased': 0, 'trip_leased': 0}], 'index': 0}\n"
     ]
    }
   ],
   "source": [
    "with mongo_storage.GetClient() as cli:\n",
    "    print(cli.find_one())"
   ]
  },
  {
   "cell_type": "code",
   "execution_count": 7,
   "metadata": {},
   "outputs": [
    {
     "name": "stdout",
     "output_type": "stream",
     "text": [
      "0\n"
     ]
    }
   ],
   "source": [
    "with mongo_storage.GetClient() as cli:\n",
    "    failed = cli.find({'loaded': False}, {\"carrier_id\": 1, \"_id\": 0})\n",
    "    print(len(list(failed)))"
   ]
  },
  {
   "cell_type": "code",
   "execution_count": 1,
   "metadata": {},
   "outputs": [],
   "source": [
    "from generate_data import scrape_site, fix_store\n",
    "fix_store()"
   ]
  }
 ],
 "metadata": {
  "kernelspec": {
   "display_name": "Python 3.8.2 64-bit",
   "language": "python",
   "name": "python38264bit58c1c1b37c0f47c2ab1b7065905e9771"
  },
  "language_info": {
   "codemirror_mode": {
    "name": "ipython",
    "version": 3
   },
   "file_extension": ".py",
   "mimetype": "text/x-python",
   "name": "python",
   "nbconvert_exporter": "python",
   "pygments_lexer": "ipython3",
   "version": "3.8.2"
  }
 },
 "nbformat": 4,
 "nbformat_minor": 4
}
